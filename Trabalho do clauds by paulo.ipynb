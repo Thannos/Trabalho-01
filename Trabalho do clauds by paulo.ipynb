{
 "cells": [
  {
   "cell_type": "markdown",
   "metadata": {},
   "source": [
    "Universidade Federal do Pará - UFPA\n",
    "Instituto de Ciências Exatas e Naturais - ICEN\n",
    "Faculdade de Computação - Facomp\n",
    "Aluno: Paulo Durval Lobato Carvalho\n",
    "Matricula: 201704940012\n",
    "\n",
    "Índice: "
   ]
  },
  {
   "cell_type": "markdown",
   "metadata": {},
   "source": [
    "    \n",
    "   - [Criação de Retas Concorrentes](#Criação-de-Retas-Concorrentes)\n",
    "   - [Criação de Retas Paralelas](#Criação-de-Retas-Paralelas)\n",
    "   - [Converter decimal fracionario para binario](#Converter-decimal-fracionario-para-binario)\n",
    "   - [Explicação do Código](#Explicação-do-código)"
   ]
  },
  {
   "cell_type": "markdown",
   "metadata": {},
   "source": [
    "# Criação de Retas Concorrentes"
   ]
  },
  {
   "cell_type": "code",
   "execution_count": 7,
   "metadata": {},
   "outputs": [
    {
     "data": {
      "image/png": "[encoded data removed]",
      "text/plain": [
       "<matplotlib.figure.Figure at 0x21261f2d898>"
      ]
     },
     "metadata": {},
     "output_type": "display_data"
    }
   ],
   "source": [
    "import matplotlib.pyplot as plt\n",
    "import numpy as np\n",
    "plt.plot(np.linspace(2.0, 8.0, num=5))\n",
    "plt.plot(np.linspace(3.0, 7.0, num=5))\n",
    "plt.show()"
   ]
  },
  {
   "cell_type": "markdown",
   "metadata": {},
   "source": [
    "# Criação de Retas Paralelas"
   ]
  },
  {
   "cell_type": "code",
   "execution_count": 9,
   "metadata": {},
   "outputs": [
    {
     "data": {
      "image/png": "[encoded data removed]",
      "text/plain": [
       "<matplotlib.figure.Figure at 0x21261fa58d0>"
      ]
     },
     "metadata": {},
     "output_type": "display_data"
    }
   ],
   "source": [
    "import matplotlib.pyplot as plt\n",
    "import numpy as np\n",
    "plt.plot(np.linspace(2.0, 8.0, num=5))\n",
    "plt.plot(np.linspace(3.0, 9.0, num=5))\n",
    "plt.show()"
   ]
  },
  {
   "cell_type": "markdown",
   "metadata": {},
   "source": [
    "# Converter decimal fracionario para binario"
   ]
  },
  {
   "cell_type": "code",
   "execution_count": 16,
   "metadata": {},
   "outputs": [
    {
     "name": "stdout",
     "output_type": "stream",
     "text": [
      "1.2 em binário: \n",
      "1.00110011001"
     ]
    }
   ],
   "source": [
    "#converter a parte inteira int(entrada)\n",
    "def inteiro(entrada):\n",
    "  a=int(entrada)\n",
    "  #print(int(entrada))\n",
    "  i=0\n",
    "  vet1=[0]*10\n",
    "  while(True):\n",
    "    vet1[i]=a%2\n",
    "    i=i+1\n",
    "    a=a//2\n",
    "    if (a==0):\n",
    "      break\n",
    "  for x in reversed(vet1[:i]):\n",
    "    print(x, end = '')\n",
    "\n",
    "#converter a parte fracionária entrad - int(entrada)\n",
    "def fracionaria(entrada):\n",
    "  o=0\n",
    "  b = entrada - int(entrada)\n",
    "  vet2=[0]*100\n",
    "  print('.', end ='')\n",
    "  while(b!=1.00):\n",
    "    b=b*2\n",
    "    vet2[o]=int(b)\n",
    "    b = b - int(b)\n",
    "    o=o+1\n",
    "    if o > 10: break\n",
    "  for y in (vet2[:o]):\n",
    "    print(y, end ='')\n",
    "\n",
    "def paraBinario(entrada):\n",
    "    inteiro(entrada)\n",
    "    fracionaria(entrada)\n",
    "    \n",
    "entrada=1.2\n",
    "print (entrada, \"em binário: \")\n",
    "paraBinario(entrada)"
   ]
  },
  {
   "cell_type": "markdown",
   "metadata": {},
   "source": [
    "# Explicação do código"
   ]
  },
  {
   "cell_type": "code",
   "execution_count": 17,
   "metadata": {},
   "outputs": [
    {
     "name": "stdout",
     "output_type": "stream",
     "text": [
      "[ 10.    21.7   25.6   27.55]\n",
      "[105 125 150 175 195]\n",
      "[10 11 12 13 14 15 16 17 18 19]\n",
      "[False False  True False False  True False False  True False]\n",
      "[12 15 18]\n",
      "[10 11 12 13 14 15 16 17 18 19]\n",
      "[[10 11 12 13 14]\n",
      " [15 16 17 18 19]]\n"
     ]
    }
   ],
   "source": [
    "a = np.arange(4.0)\n",
    "b = a * 23.4\n",
    "c = b/(a+1)\n",
    "c += 10\n",
    "print (c)\n",
    "\n",
    "arr = np.arange(100, 200)\n",
    "select = [5, 25, 50, 75, -5]\n",
    "print(arr[select])\n",
    "\n",
    "arr = np.arange(10, 20 )\n",
    "print(arr)\n",
    "\n",
    "div_by_3 = arr%3 == 0\n",
    "print(div_by_3)\n",
    "\n",
    "print(arr[div_by_3])\n",
    "\n",
    "print(arr)\n",
    "arr = np.arange(10, 20) . reshape((2,5))\n",
    "print(arr)\n",
    "#[[10 11 12 13 14]\n",
    "#[15 16 17 18 19]]"
   ]
  },
  {
   "cell_type": "markdown",
   "metadata": {},
   "source": [
    "Esse algoritmo cria uma variavel chamda de \"a\" na primeira linha e declara nesta variavel uma array aleatória do tipo float com 4 posições. Em seguida ele cria uma variavel chamada \"b\" e declara que b é uma array com o mesmo número de posições da array anterior e seus valores são derivados da função \"a * 23.4\". Depois cria uma variavel chamada \"c\" e declara que c é \"b/(a+1)\", mas na linha seguinte soma todos os valores com 10. Na sexta linha é criado uma array \"arr\" com seus valores declarados, aleatóriamente, entre 100 e 200. Na linha seguinte ele declara que outra array, \"select\", e usa outro método para realizar a soma entre elas. Ou seja, a primeira parte do algoritmo ele só está mostrando maneiras de como podemos realizar uma soma entre arrays.\n",
    "Ele simplesmente está reconfigurando a array \"arr\" para valores inteiros de 10 até menor que 20 para ser usado nos próximos exemplos.\n",
    "Logo em seguida ele cria a variavel \"div_by_3\" que irá dividir todos os valores de uma array, neste caso ele usa a array \"arr\", para e apresenta na tela quais são múltiplos de 3 e quais não são. São mostrados False para quem não é e True para quem é. Depois é mostrado um outro jeito de se realizar a comparação, usando um método parecido com usado na soma da linha 8, mas diferente do outro método este apresenta os valores que são múltiplos de 3.\n",
    "Este último exemplo ele ensina como remodelar uma array, a array do exemplo exemplo anterio poderia ser apresentada de maneira parecida com uma matriz (1,) só uma linham contudo, foi mudado para (2,5) que é duas linhas e 5 colunas "
   ]
  }
 ],
 "metadata": {
  "kernelspec": {
   "display_name": "Python 3",
   "language": "python",
   "name": "python3"
  },
  "language_info": {
   "codemirror_mode": {
    "name": "ipython",
    "version": 3
   },
   "file_extension": ".py",
   "mimetype": "text/x-python",
   "name": "python",
   "nbconvert_exporter": "python",
   "pygments_lexer": "ipython3",
   "version": "3.6.2"
  }
 },
 "nbformat": 4,
 "nbformat_minor": 2
}
